{
 "cells": [
  {
   "cell_type": "code",
   "execution_count": 1,
   "id": "7eb5b54b-94da-4452-8f0d-0f9da5226d41",
   "metadata": {},
   "outputs": [
    {
     "name": "stdout",
     "output_type": "stream",
     "text": [
      "(Re)loading load_data\n"
     ]
    }
   ],
   "source": [
    "from load_data import *\n",
    "import pingouin as pg\n",
    "import re\n",
    "\n",
    "testBehav = behavior.query(\"(session=='experiment') & (condType in @condTypes)\")\n",
    "usedTestSubjs = testBehav[~testBehav.excluded].subjectId.unique()\n",
    "testTrials = testBehav.query('subjectId in @usedTestSubjs').set_index(['subjectId', 'trialCount'], verify_integrity=True)"
   ]
  },
  {
   "cell_type": "code",
   "execution_count": 2,
   "id": "9e17e2e0-a391-475d-9f5c-da03da5e03ea",
   "metadata": {},
   "outputs": [],
   "source": [
    "pupils = samples.query(\"session=='experiment'\").merge(testTrials, left_on=['subjectId', 'Trial'], right_index=True)\n",
    "testTrials['Start'] = pupils.groupby(['subjectId', 'Trial']).Time.min() + pd.to_timedelta('2s')\n",
    "testTrials['End'] = pupils.groupby(['subjectId', 'Trial']).Time.min() + pd.to_timedelta('6s')"
   ]
  },
  {
   "cell_type": "code",
   "execution_count": 3,
   "id": "318c900d-1942-416b-bb46-5c548498f90a",
   "metadata": {},
   "outputs": [],
   "source": [
    "def loadSaccades(file_name):\n",
    "    cols = ['Event Type','Start','End', 'Amplitude']\n",
    "    out = pd.read_csv(file_name, skiprows=list(range(12))+list(range(13,20)), sep='\\t', usecols=cols, index_col=False)\n",
    "    out = out[out['Event Type'].isin(['Saccade L', 'Saccade R'])]\n",
    "    out['Start'] = pd.to_datetime(out.Start.astype(np.int64), unit='us')\n",
    "    out['End'] = pd.to_datetime(out.End.astype(np.int64), unit='us')\n",
    "    return out"
   ]
  },
  {
   "cell_type": "code",
   "execution_count": 4,
   "id": "9cb64fb4-91ba-4670-94eb-bcafa6a48a97",
   "metadata": {},
   "outputs": [
    {
     "name": "stdout",
     "output_type": "stream",
     "text": [
      "CPU times: total: 13.9 s\n",
      "Wall time: 16.2 s\n"
     ]
    }
   ],
   "source": [
    "%%time\n",
    "\n",
    "maxAmplitude = 100\n",
    "saccadeRateCol = []\n",
    "lastSubjectId = None\n",
    "for (subjectId, _), row in testTrials.iterrows():\n",
    "    if subjectId != lastSubjectId:\n",
    "        rawPath = 'rawdata/experiment'\n",
    "        fileList = [f for f in os.listdir(rawPath) if re.match(f'subject_{subjectId}_\\\\d+ Events.txt', f)]\n",
    "        assert len(fileList) == 1\n",
    "        saccades = loadSaccades(os.path.join(rawPath, fileList[0]))\n",
    "        lastSubjectId = subjectId\n",
    "    count = saccades.query('(Amplitude < @maxAmplitude) & (@row.Start <= Start <= @row.End)').Start.count() / 2.\n",
    "    seconds = (row.End - row.Start) / pd.to_timedelta('1s')\n",
    "    saccadeRateCol.append(count / seconds)\n",
    "testTrials['saccadeRate'] = saccadeRateCol\n",
    "saccadeRates = testTrials.groupby(['subjectId', 'condType']).saccadeRate.mean().unstack(['condType'])"
   ]
  },
  {
   "cell_type": "code",
   "execution_count": 5,
   "id": "39fbb3d3-a943-46c3-a6fc-d42866a96c2c",
   "metadata": {},
   "outputs": [
    {
     "data": {
      "text/html": [
       "<div>\n",
       "<style scoped>\n",
       "    .dataframe tbody tr th:only-of-type {\n",
       "        vertical-align: middle;\n",
       "    }\n",
       "\n",
       "    .dataframe tbody tr th {\n",
       "        vertical-align: top;\n",
       "    }\n",
       "\n",
       "    .dataframe thead th {\n",
       "        text-align: right;\n",
       "    }\n",
       "</style>\n",
       "<table border=\"1\" class=\"dataframe\">\n",
       "  <thead>\n",
       "    <tr style=\"text-align: right;\">\n",
       "      <th></th>\n",
       "      <th>W</th>\n",
       "      <th>pval</th>\n",
       "      <th>normal</th>\n",
       "    </tr>\n",
       "    <tr>\n",
       "      <th>condType</th>\n",
       "      <th></th>\n",
       "      <th></th>\n",
       "      <th></th>\n",
       "    </tr>\n",
       "  </thead>\n",
       "  <tbody>\n",
       "    <tr>\n",
       "      <th>blush</th>\n",
       "      <td>0.941475</td>\n",
       "      <td>0.001255</td>\n",
       "      <td>False</td>\n",
       "    </tr>\n",
       "    <tr>\n",
       "      <th>hint</th>\n",
       "      <td>0.928761</td>\n",
       "      <td>0.000278</td>\n",
       "      <td>False</td>\n",
       "    </tr>\n",
       "    <tr>\n",
       "      <th>normal</th>\n",
       "      <td>0.910426</td>\n",
       "      <td>0.000038</td>\n",
       "      <td>False</td>\n",
       "    </tr>\n",
       "    <tr>\n",
       "      <th>wink</th>\n",
       "      <td>0.902385</td>\n",
       "      <td>0.000017</td>\n",
       "      <td>False</td>\n",
       "    </tr>\n",
       "  </tbody>\n",
       "</table>\n",
       "</div>"
      ],
      "text/plain": [
       "                 W      pval  normal\n",
       "condType                            \n",
       "blush     0.941475  0.001255   False\n",
       "hint      0.928761  0.000278   False\n",
       "normal    0.910426  0.000038   False\n",
       "wink      0.902385  0.000017   False"
      ]
     },
     "execution_count": 5,
     "metadata": {},
     "output_type": "execute_result"
    },
    {
     "data": {
      "image/png": "[encoded data removed]",
      "text/plain": [
       "<Figure size 640x480 with 1 Axes>"
      ]
     },
     "metadata": {},
     "output_type": "display_data"
    }
   ],
   "source": [
    "plt.hist(saccadeRates[condTypes], histtype='step', bins='auto', label=condTypes, color=[condColors[condType] for condType in condTypes])\n",
    "plt.legend()\n",
    "pg.normality(saccadeRates)"
   ]
  },
  {
   "cell_type": "code",
   "execution_count": 6,
   "id": "fcff96f6-6cc9-4176-902d-ea2b9a82bd0a",
   "metadata": {},
   "outputs": [
    {
     "data": {
      "text/plain": [
       "<Axes: xlabel='condType'>"
      ]
     },
     "execution_count": 6,
     "metadata": {},
     "output_type": "execute_result"
    },
    {
     "data": {
      "image/png": "[encoded data removed]",
      "text/plain": [
       "<Figure size 640x480 with 1 Axes>"
      ]
     },
     "metadata": {},
     "output_type": "display_data"
    }
   ],
   "source": [
    "import seaborn as sns\n",
    "sns.pointplot(saccadeRates, errorbar='se')"
   ]
  },
  {
   "cell_type": "code",
   "execution_count": 7,
   "id": "4ca4daef-fef5-4c26-9507-f1b6278c65c7",
   "metadata": {},
   "outputs": [
    {
     "data": {
      "text/html": [
       "<div>\n",
       "<style scoped>\n",
       "    .dataframe tbody tr th:only-of-type {\n",
       "        vertical-align: middle;\n",
       "    }\n",
       "\n",
       "    .dataframe tbody tr th {\n",
       "        vertical-align: top;\n",
       "    }\n",
       "\n",
       "    .dataframe thead th {\n",
       "        text-align: right;\n",
       "    }\n",
       "</style>\n",
       "<table border=\"1\" class=\"dataframe\">\n",
       "  <thead>\n",
       "    <tr style=\"text-align: right;\">\n",
       "      <th></th>\n",
       "      <th>Source</th>\n",
       "      <th>W</th>\n",
       "      <th>ddof1</th>\n",
       "      <th>Q</th>\n",
       "      <th>p-unc</th>\n",
       "    </tr>\n",
       "  </thead>\n",
       "  <tbody>\n",
       "    <tr>\n",
       "      <th>Friedman</th>\n",
       "      <td>Within</td>\n",
       "      <td>0.15775</td>\n",
       "      <td>3</td>\n",
       "      <td>37.386684</td>\n",
       "      <td>3.811236e-08</td>\n",
       "    </tr>\n",
       "  </tbody>\n",
       "</table>\n",
       "</div>"
      ],
      "text/plain": [
       "          Source        W  ddof1          Q         p-unc\n",
       "Friedman  Within  0.15775      3  37.386684  3.811236e-08"
      ]
     },
     "execution_count": 7,
     "metadata": {},
     "output_type": "execute_result"
    }
   ],
   "source": [
    "pg.friedman(saccadeRates)"
   ]
  },
  {
   "cell_type": "code",
   "execution_count": 8,
   "id": "80ded82a-d37e-484a-a27f-7fb0d4d15414",
   "metadata": {},
   "outputs": [
    {
     "data": {
      "text/html": [
       "<div>\n",
       "<style scoped>\n",
       "    .dataframe tbody tr th:only-of-type {\n",
       "        vertical-align: middle;\n",
       "    }\n",
       "\n",
       "    .dataframe tbody tr th {\n",
       "        vertical-align: top;\n",
       "    }\n",
       "\n",
       "    .dataframe thead th {\n",
       "        text-align: right;\n",
       "    }\n",
       "</style>\n",
       "<table border=\"1\" class=\"dataframe\">\n",
       "  <thead>\n",
       "    <tr style=\"text-align: right;\">\n",
       "      <th></th>\n",
       "      <th>W-val</th>\n",
       "      <th>alternative</th>\n",
       "      <th>p-val</th>\n",
       "      <th>RBC</th>\n",
       "      <th>CLES</th>\n",
       "    </tr>\n",
       "  </thead>\n",
       "  <tbody>\n",
       "    <tr>\n",
       "      <th>Wilcoxon</th>\n",
       "      <td>1140.0</td>\n",
       "      <td>two-sided</td>\n",
       "      <td>0.094884</td>\n",
       "      <td>-0.220779</td>\n",
       "      <td>0.477087</td>\n",
       "    </tr>\n",
       "  </tbody>\n",
       "</table>\n",
       "</div>"
      ],
      "text/plain": [
       "           W-val alternative     p-val       RBC      CLES\n",
       "Wilcoxon  1140.0   two-sided  0.094884 -0.220779  0.477087"
      ]
     },
     "execution_count": 8,
     "metadata": {},
     "output_type": "execute_result"
    }
   ],
   "source": [
    "pg.wilcoxon(saccadeRates.wink, saccadeRates.normal)"
   ]
  },
  {
   "cell_type": "code",
   "execution_count": 9,
   "id": "371389b8-5c59-401a-8eaa-cbab4d8ef2e6",
   "metadata": {},
   "outputs": [
    {
     "data": {
      "text/html": [
       "<div>\n",
       "<style scoped>\n",
       "    .dataframe tbody tr th:only-of-type {\n",
       "        vertical-align: middle;\n",
       "    }\n",
       "\n",
       "    .dataframe tbody tr th {\n",
       "        vertical-align: top;\n",
       "    }\n",
       "\n",
       "    .dataframe thead th {\n",
       "        text-align: right;\n",
       "    }\n",
       "</style>\n",
       "<table border=\"1\" class=\"dataframe\">\n",
       "  <thead>\n",
       "    <tr style=\"text-align: right;\">\n",
       "      <th></th>\n",
       "      <th>W-val</th>\n",
       "      <th>alternative</th>\n",
       "      <th>p-val</th>\n",
       "      <th>RBC</th>\n",
       "      <th>CLES</th>\n",
       "    </tr>\n",
       "  </thead>\n",
       "  <tbody>\n",
       "    <tr>\n",
       "      <th>Wilcoxon</th>\n",
       "      <td>808.5</td>\n",
       "      <td>two-sided</td>\n",
       "      <td>0.000437</td>\n",
       "      <td>-0.461538</td>\n",
       "      <td>0.436388</td>\n",
       "    </tr>\n",
       "  </tbody>\n",
       "</table>\n",
       "</div>"
      ],
      "text/plain": [
       "          W-val alternative     p-val       RBC      CLES\n",
       "Wilcoxon  808.5   two-sided  0.000437 -0.461538  0.436388"
      ]
     },
     "execution_count": 9,
     "metadata": {},
     "output_type": "execute_result"
    }
   ],
   "source": [
    "pg.wilcoxon(saccadeRates.blush, saccadeRates.hint)"
   ]
  },
  {
   "cell_type": "code",
   "execution_count": null,
   "id": "b5c244ae-4cdd-47f0-8efa-ca9db9d725a0",
   "metadata": {},
   "outputs": [],
   "source": []
  }
 ],
 "metadata": {
  "kernelspec": {
   "display_name": "Python 3 (ipykernel)",
   "language": "python",
   "name": "python3"
  },
  "language_info": {
   "codemirror_mode": {
    "name": "ipython",
    "version": 3
   },
   "file_extension": ".py",
   "mimetype": "text/x-python",
   "name": "python",
   "nbconvert_exporter": "python",
   "pygments_lexer": "ipython3",
   "version": "3.12.7"
  }
 },
 "nbformat": 4,
 "nbformat_minor": 5
}
