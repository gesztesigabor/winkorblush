{
 "cells": [
  {
   "cell_type": "code",
   "execution_count": 1,
   "id": "0f1c2523",
   "metadata": {},
   "outputs": [],
   "source": [
    "from load_data import *\n",
    "minOffset, maxOffset = pd.to_timedelta('-0.5s'), pd.to_timedelta('5s')"
   ]
  },
  {
   "cell_type": "code",
   "execution_count": 2,
   "id": "2b88f60f-3043-4a00-a590-aeaeb1e1cacc",
   "metadata": {},
   "outputs": [
    {
     "name": "stdout",
     "output_type": "stream",
     "text": [
      "Excluded subject(s) in reversal learning task: [8002]\n"
     ]
    }
   ],
   "source": [
    "testBehav = behavior[(behavior.session=='experiment') & behavior.condType.isin(condTypes)]\n",
    "allTestSubjs = testBehav.subjectId.unique()\n",
    "usedTestSubjs = testBehav[~testBehav.excluded].subjectId.unique()\n",
    "exclTestSubjs = [s for s in allTestSubjs if s not in usedTestSubjs]\n",
    "print(f'Excluded subject(s) in reversal learning task: {exclTestSubjs}')"
   ]
  },
  {
   "cell_type": "code",
   "execution_count": 3,
   "id": "4efee4cf-ec02-4add-90ef-0095b0d19a83",
   "metadata": {},
   "outputs": [
    {
     "name": "stdout",
     "output_type": "stream",
     "text": [
      "Number of trials in filler blocks\n"
     ]
    },
    {
     "data": {
      "text/plain": [
       "mean       7.093750\n",
       "median     6.000000\n",
       "min        4.000000\n",
       "max       20.000000\n",
       "std        3.647876\n",
       "Name: fillerNum, dtype: float64"
      ]
     },
     "execution_count": 3,
     "metadata": {},
     "output_type": "execute_result"
    }
   ],
   "source": [
    "print(\"Number of trials in filler blocks\")\n",
    "expTrials = behavior[(behavior.session=='experiment') & behavior.subjectId.isin(usedTestSubjs)].copy()\n",
    "expTrials['fillerNum'] = expTrials.fillerTrialNum.shift()\n",
    "expTrials['fillerNonFinal'] = (expTrials.fillerDifference.shift()<4) | (expTrials.fillerLearned.shift()<3)\n",
    "expTestTrials = expTrials[expTrials.condType.isin(condTypes)]\n",
    "expTestTrials.fillerNum.agg(['mean', 'median', 'min', 'max', 'std'])"
   ]
  },
  {
   "cell_type": "code",
   "execution_count": 4,
   "id": "3535eaa6-b351-4db4-9c30-08ab3ad04455",
   "metadata": {},
   "outputs": [
    {
     "name": "stdout",
     "output_type": "stream",
     "text": [
      "Maximum length filler blocks where the conditions were not satisfied\n"
     ]
    },
    {
     "data": {
      "text/plain": [
       "sum     36.000000\n",
       "mean     0.014241\n",
       "Name: fillerNonFinal, dtype: float64"
      ]
     },
     "execution_count": 4,
     "metadata": {},
     "output_type": "execute_result"
    }
   ],
   "source": [
    "print(\"Maximum length filler blocks where the conditions were not satisfied\")\n",
    "expTestTrials.fillerNonFinal.agg(['sum', 'mean'])"
   ]
  },
  {
   "cell_type": "code",
   "execution_count": 5,
   "id": "8cd38616-d5d5-4782-a552-50cc1d36f56c",
   "metadata": {},
   "outputs": [
    {
     "name": "stdout",
     "output_type": "stream",
     "text": [
      "Non-excluded participant's excluded test trials\n"
     ]
    },
    {
     "data": {
      "text/plain": [
       "mean      0.051028\n",
       "median    0.031250\n",
       "min       0.000000\n",
       "max       0.375000\n",
       "std       0.085241\n",
       "Name: excluded, dtype: float64"
      ]
     },
     "execution_count": 5,
     "metadata": {},
     "output_type": "execute_result"
    }
   ],
   "source": [
    "print(\"Non-excluded participant's excluded test trials\")\n",
    "usedTestBehav = testBehav[testBehav.subjectId.isin(usedTestSubjs)]\n",
    "usedTestBehav.groupby('subjectId').excluded.mean().agg(['mean', 'median', 'min', 'max', 'std'])"
   ]
  },
  {
   "cell_type": "code",
   "execution_count": 6,
   "id": "94c46e9a-647c-499c-9f42-d3f53ce31df1",
   "metadata": {},
   "outputs": [
    {
     "name": "stdout",
     "output_type": "stream",
     "text": [
      "Interpolated data in relevant data segments of non-excluded test trials \n"
     ]
    },
    {
     "data": {
      "text/plain": [
       "mean      0.060407\n",
       "median    0.056097\n",
       "min       0.010190\n",
       "max       0.136662\n",
       "std       0.033813\n",
       "Name: interpolated, dtype: float64"
      ]
     },
     "execution_count": 6,
     "metadata": {},
     "output_type": "execute_result"
    }
   ],
   "source": [
    "print(\"Interpolated data in relevant data segments of non-excluded test trials \")\n",
    "usedTestTrials = usedTestBehav[~usedTestBehav.excluded]\n",
    "usedTestSamples = samples.merge(usedTestTrials, left_on=['subjectId', 'session', 'Trial'], right_on=['subjectId', 'session', 'trialCount'])\n",
    "usedTestSamples = usedTestSamples[usedTestSamples.offsetFromStim.between(minOffset, maxOffset)]\n",
    "usedTestSamples.groupby('subjectId').interpolated.mean().agg(['mean', 'median', 'min', 'max', 'std'])"
   ]
  },
  {
   "cell_type": "code",
   "execution_count": 7,
   "id": "8feacd89-e665-40af-b763-2dbbef6e4cd8",
   "metadata": {},
   "outputs": [
    {
     "name": "stdout",
     "output_type": "stream",
     "text": [
      "Excluded subject(s) in visual control task: [8002]\n"
     ]
    }
   ],
   "source": [
    "visualBehav = behavior[behavior.session=='visual']\n",
    "allVisualSubjs = visualBehav.subjectId.unique()\n",
    "usedVisualSubjs = visualBehav[~visualBehav.excluded].subjectId.unique()\n",
    "exclVisualSubjs = [s for s in allVisualSubjs if s not in usedVisualSubjs]\n",
    "print(f'Excluded subject(s) in visual control task: {exclVisualSubjs}')"
   ]
  },
  {
   "cell_type": "code",
   "execution_count": 8,
   "id": "d91d0fa1-77cf-4713-adab-be8333660a2b",
   "metadata": {},
   "outputs": [
    {
     "name": "stdout",
     "output_type": "stream",
     "text": [
      "Non-excluded participant's excluded visual trials\n"
     ]
    },
    {
     "data": {
      "text/plain": [
       "mean      0.028481\n",
       "median    0.000000\n",
       "min       0.000000\n",
       "max       0.425000\n",
       "std       0.072361\n",
       "Name: excluded, dtype: float64"
      ]
     },
     "execution_count": 8,
     "metadata": {},
     "output_type": "execute_result"
    }
   ],
   "source": [
    "print(\"Non-excluded participant's excluded visual trials\")\n",
    "usedVisualBehav = visualBehav[visualBehav.subjectId.isin(usedVisualSubjs)]\n",
    "usedVisualBehav.groupby('subjectId').excluded.mean().agg(['mean', 'median', 'min', 'max', 'std'])"
   ]
  },
  {
   "cell_type": "code",
   "execution_count": 9,
   "id": "c593284e-2047-407e-8491-9b0ba96d1b3b",
   "metadata": {},
   "outputs": [
    {
     "name": "stdout",
     "output_type": "stream",
     "text": [
      "Interpolated data in non-excluded visual trials\n"
     ]
    },
    {
     "data": {
      "text/plain": [
       "mean      0.046651\n",
       "median    0.040044\n",
       "min       0.004730\n",
       "max       0.132135\n",
       "std       0.030400\n",
       "Name: interpolated, dtype: float64"
      ]
     },
     "execution_count": 9,
     "metadata": {},
     "output_type": "execute_result"
    }
   ],
   "source": [
    "print(\"Interpolated data in non-excluded visual trials\")\n",
    "usedVisualTrials = usedVisualBehav[~usedVisualBehav.excluded]\n",
    "usedVisualSamples = samples.merge(usedVisualTrials, left_on=['subjectId', 'session', 'Trial'], right_on=['subjectId', 'session', 'trialCount'])\n",
    "usedVisualSamples = usedVisualSamples[usedVisualSamples.offsetFromStim.between(minOffset, maxOffset)]\n",
    "usedVisualSamples.groupby('subjectId').interpolated.mean().agg(['mean', 'median', 'min', 'max', 'std'])"
   ]
  },
  {
   "cell_type": "code",
   "execution_count": null,
   "id": "92e40b56-521f-40f8-be6b-925f836856d4",
   "metadata": {},
   "outputs": [],
   "source": []
  }
 ],
 "metadata": {
  "kernelspec": {
   "display_name": "Python 3 (ipykernel)",
   "language": "python",
   "name": "python3"
  },
  "language_info": {
   "codemirror_mode": {
    "name": "ipython",
    "version": 3
   },
   "file_extension": ".py",
   "mimetype": "text/x-python",
   "name": "python",
   "nbconvert_exporter": "python",
   "pygments_lexer": "ipython3",
   "version": "3.12.4"
  }
 },
 "nbformat": 4,
 "nbformat_minor": 5
}
