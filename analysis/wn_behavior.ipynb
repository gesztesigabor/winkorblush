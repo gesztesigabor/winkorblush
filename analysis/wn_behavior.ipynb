{
 "cells": [
  {
   "cell_type": "code",
   "execution_count": 1,
   "id": "8c074168",
   "metadata": {},
   "outputs": [],
   "source": [
    "from load_data import *\n",
    "\n",
    "testBehav = behavior[(behavior.session=='wn_experiment') & behavior.condType.isin(condTypes)]\n",
    "usedTestSubjs = testBehav[~testBehav.excluded].subjectId.unique()\n",
    "testTrials = testBehav[testBehav.subjectId.isin(usedTestSubjs)].copy()\n",
    "testTrials['correct'] = (testTrials.response==testTrials.direction)\n",
    "testTrials['prefSel'] = (testTrials.response==testTrials.preferred)"
   ]
  },
  {
   "cell_type": "code",
   "execution_count": 2,
   "id": "4b3d2e91",
   "metadata": {},
   "outputs": [
    {
     "name": "stdout",
     "output_type": "stream",
     "text": [
      "Proportion of correct responses\n"
     ]
    },
    {
     "data": {
      "text/html": [
       "<div>\n",
       "<style scoped>\n",
       "    .dataframe tbody tr th:only-of-type {\n",
       "        vertical-align: middle;\n",
       "    }\n",
       "\n",
       "    .dataframe tbody tr th {\n",
       "        vertical-align: top;\n",
       "    }\n",
       "\n",
       "    .dataframe thead th {\n",
       "        text-align: right;\n",
       "    }\n",
       "</style>\n",
       "<table border=\"1\" class=\"dataframe\">\n",
       "  <thead>\n",
       "    <tr style=\"text-align: right;\">\n",
       "      <th></th>\n",
       "      <th>condType</th>\n",
       "      <th>mean</th>\n",
       "      <th>median</th>\n",
       "      <th>min</th>\n",
       "      <th>max</th>\n",
       "      <th>std</th>\n",
       "    </tr>\n",
       "  </thead>\n",
       "  <tbody>\n",
       "    <tr>\n",
       "      <th>0</th>\n",
       "      <td>normal</td>\n",
       "      <td>0.7650</td>\n",
       "      <td>0.750</td>\n",
       "      <td>0.65</td>\n",
       "      <td>0.9</td>\n",
       "      <td>0.067082</td>\n",
       "    </tr>\n",
       "    <tr>\n",
       "      <th>1</th>\n",
       "      <td>wink</td>\n",
       "      <td>0.7775</td>\n",
       "      <td>0.775</td>\n",
       "      <td>0.50</td>\n",
       "      <td>1.0</td>\n",
       "      <td>0.127191</td>\n",
       "    </tr>\n",
       "  </tbody>\n",
       "</table>\n",
       "</div>"
      ],
      "text/plain": [
       "  condType    mean  median   min  max       std\n",
       "0   normal  0.7650   0.750  0.65  0.9  0.067082\n",
       "1     wink  0.7775   0.775  0.50  1.0  0.127191"
      ]
     },
     "execution_count": 2,
     "metadata": {},
     "output_type": "execute_result"
    }
   ],
   "source": [
    "print('Proportion of correct responses')\n",
    "correctRatios = testTrials.groupby(['condType', 'subjectId'], as_index=False).correct.mean()\n",
    "correctRatios.groupby('condType', as_index=False).correct.agg(['mean', 'median', 'min', 'max', 'std'])"
   ]
  },
  {
   "cell_type": "code",
   "execution_count": 3,
   "id": "e7d4ebc6-17d3-4c39-b384-e0dd8b212e82",
   "metadata": {},
   "outputs": [
    {
     "name": "stdout",
     "output_type": "stream",
     "text": [
      "Proportion of preferred responses\n"
     ]
    },
    {
     "data": {
      "text/html": [
       "<div>\n",
       "<style scoped>\n",
       "    .dataframe tbody tr th:only-of-type {\n",
       "        vertical-align: middle;\n",
       "    }\n",
       "\n",
       "    .dataframe tbody tr th {\n",
       "        vertical-align: top;\n",
       "    }\n",
       "\n",
       "    .dataframe thead th {\n",
       "        text-align: right;\n",
       "    }\n",
       "</style>\n",
       "<table border=\"1\" class=\"dataframe\">\n",
       "  <thead>\n",
       "    <tr style=\"text-align: right;\">\n",
       "      <th></th>\n",
       "      <th>condType</th>\n",
       "      <th>mean</th>\n",
       "      <th>median</th>\n",
       "      <th>min</th>\n",
       "      <th>max</th>\n",
       "      <th>std</th>\n",
       "    </tr>\n",
       "  </thead>\n",
       "  <tbody>\n",
       "    <tr>\n",
       "      <th>0</th>\n",
       "      <td>normal</td>\n",
       "      <td>0.9525</td>\n",
       "      <td>1.0</td>\n",
       "      <td>0.8</td>\n",
       "      <td>1.0</td>\n",
       "      <td>0.073404</td>\n",
       "    </tr>\n",
       "    <tr>\n",
       "      <th>1</th>\n",
       "      <td>wink</td>\n",
       "      <td>0.9625</td>\n",
       "      <td>1.0</td>\n",
       "      <td>0.6</td>\n",
       "      <td>1.0</td>\n",
       "      <td>0.093012</td>\n",
       "    </tr>\n",
       "  </tbody>\n",
       "</table>\n",
       "</div>"
      ],
      "text/plain": [
       "  condType    mean  median  min  max       std\n",
       "0   normal  0.9525     1.0  0.8  1.0  0.073404\n",
       "1     wink  0.9625     1.0  0.6  1.0  0.093012"
      ]
     },
     "execution_count": 3,
     "metadata": {},
     "output_type": "execute_result"
    }
   ],
   "source": [
    "print('Proportion of preferred responses')\n",
    "prefSelRatios = testTrials.groupby(['condType', 'subjectId'], as_index=False).prefSel.mean()\n",
    "prefSelRatios.groupby('condType', as_index=False).prefSel.agg(['mean', 'median', 'min', 'max', 'std'])"
   ]
  },
  {
   "cell_type": "code",
   "execution_count": 4,
   "id": "b114e5f5",
   "metadata": {},
   "outputs": [
    {
     "name": "stdout",
     "output_type": "stream",
     "text": [
      "Test if proportion of correct responses in condition normal is different from 50%\n",
      "\t BinomTestResult(k=306, n=400, alternative='two-sided', statistic=0.765, pvalue=2.741372041857744e-27)\n",
      "Test if proportion of correct responses in condition wink is different from 50%\n",
      "\t BinomTestResult(k=311, n=400, alternative='two-sided', statistic=0.7775, pvalue=6.2250371944475216e-30)\n"
     ]
    }
   ],
   "source": [
    "for condType in testTrials.condType.unique():\n",
    "    print(f'Test if proportion of correct responses in condition {condType} is different from 50%')\n",
    "    res = testTrials[(testTrials.condType==condType)].groupby('correct').trialCount.count()\n",
    "    print('\\t', stats.binomtest(k=res.loc[True], n=res.sum(), p=0.5))"
   ]
  },
  {
   "cell_type": "code",
   "execution_count": 5,
   "id": "625c226a",
   "metadata": {},
   "outputs": [
    {
     "name": "stdout",
     "output_type": "stream",
     "text": [
      "Test if proportion of correct responses in condition normal is different from 80%\n",
      "\t BinomTestResult(k=306, n=400, alternative='two-sided', statistic=0.765, pvalue=0.0911573961399163)\n",
      "Test if proportion of correct responses in condition wink is different from 80%\n",
      "\t BinomTestResult(k=311, n=400, alternative='two-sided', statistic=0.7775, pvalue=0.2606879265506233)\n"
     ]
    }
   ],
   "source": [
    "for condType in ['normal', 'wink']:\n",
    "    print(f'Test if proportion of correct responses in condition {condType} is different from 80%')\n",
    "    res = testTrials[(testTrials.condType==condType)].groupby('correct').trialCount.count()\n",
    "    print('\\t', stats.binomtest(k=res.loc[True], n=res.sum(), p=0.8))"
   ]
  },
  {
   "cell_type": "code",
   "execution_count": 6,
   "id": "48ead8b0",
   "metadata": {},
   "outputs": [
    {
     "name": "stdout",
     "output_type": "stream",
     "text": [
      "Test if proportions of the correct responses in conditions normal and wink are different\n",
      "\t SignificanceResult(statistic=1.073437614746273, pvalue=0.7364100796607427)\n"
     ]
    }
   ],
   "source": [
    "print('Test if proportions of the correct responses in conditions normal and wink are different')\n",
    "res = testTrials[testTrials.condType.isin(['normal', 'wink'])].groupby(['condType', 'correct']).trialCount.count().unstack('correct')\n",
    "#print(res)\n",
    "print('\\t', stats.fisher_exact(res))"
   ]
  },
  {
   "cell_type": "code",
   "execution_count": 7,
   "id": "8f13c27b",
   "metadata": {},
   "outputs": [
    {
     "name": "stdout",
     "output_type": "stream",
     "text": [
      "Test if proportion of preferred responses in condition normal is different from 50%\n",
      "\t BinomTestResult(k=381, n=400, alternative='two-sided', statistic=0.9525, pvalue=1.1928266569906905e-88)\n",
      "Test if proportion of preferred responses in condition wink is different from 50%\n",
      "\t BinomTestResult(k=385, n=400, alternative='two-sided', statistic=0.9625, pvalue=5.072140964959186e-94)\n"
     ]
    }
   ],
   "source": [
    "for condType in testTrials.condType.unique():\n",
    "    print(f'Test if proportion of preferred responses in condition {condType} is different from 50%')\n",
    "    res = testTrials[(testTrials.condType==condType)].groupby('prefSel').trialCount.count()\n",
    "    print('\\t', stats.binomtest(k=res.loc[True], n=res.sum(), p=0.5))"
   ]
  },
  {
   "cell_type": "code",
   "execution_count": 8,
   "id": "b44028d7",
   "metadata": {},
   "outputs": [
    {
     "name": "stdout",
     "output_type": "stream",
     "text": [
      "Test if proportions of the preferred responses in conditions normal and wink are different\n",
      "\t SignificanceResult(statistic=1.2799650043744533, pvalue=0.5996654889974238)\n"
     ]
    }
   ],
   "source": [
    "print('Test if proportions of the preferred responses in conditions normal and wink are different')\n",
    "res = testTrials[testTrials.condType.isin(['normal', 'wink'])].groupby(['condType', 'prefSel']).trialCount.count().unstack('prefSel')\n",
    "#print(res)\n",
    "print('\\t', stats.fisher_exact(res))"
   ]
  },
  {
   "cell_type": "code",
   "execution_count": null,
   "id": "f94c5dc2-f1b1-4c4a-8560-6367cf301312",
   "metadata": {},
   "outputs": [],
   "source": []
  }
 ],
 "metadata": {
  "kernelspec": {
   "display_name": "Python 3 (ipykernel)",
   "language": "python",
   "name": "python3"
  },
  "language_info": {
   "codemirror_mode": {
    "name": "ipython",
    "version": 3
   },
   "file_extension": ".py",
   "mimetype": "text/x-python",
   "name": "python",
   "nbconvert_exporter": "python",
   "pygments_lexer": "ipython3",
   "version": "3.12.7"
  }
 },
 "nbformat": 4,
 "nbformat_minor": 5
}
